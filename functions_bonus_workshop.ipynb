{
 "cells": [
  {
   "cell_type": "markdown",
   "id": "surface-spectrum",
   "metadata": {},
   "source": [
    "Functions\n",
    "=========\n",
    "\n",
    "Function calls\n",
    "--------------\n",
    "\n",
    "\n",
    "\n",
    "In the context of programming, a *function* is a named\n",
    "sequence of statements that performs a computation. When you define a\n",
    "function, you specify the name and the sequence of statements. Later,\n",
    "you can \"call\" the function by name. We have already seen one example of\n",
    "a *function call*:"
   ]
  },
  {
   "cell_type": "code",
   "execution_count": 1,
   "id": "exact-toolbox",
   "metadata": {},
   "outputs": [
    {
     "data": {
      "text/plain": [
       "int"
      ]
     },
     "execution_count": 1,
     "metadata": {},
     "output_type": "execute_result"
    }
   ],
   "source": [
    "type(32)"
   ]
  },
  {
   "cell_type": "code",
   "execution_count": 2,
   "id": "44936f49-191d-4d29-98c4-a9110939477d",
   "metadata": {},
   "outputs": [
    {
     "data": {
      "text/plain": [
       "str"
      ]
     },
     "execution_count": 2,
     "metadata": {},
     "output_type": "execute_result"
    }
   ],
   "source": [
    "type(\"hjgjhghj\")"
   ]
  },
  {
   "cell_type": "code",
   "execution_count": 3,
   "id": "6cbe5099-0550-44c2-9d3f-0994c26def06",
   "metadata": {},
   "outputs": [
    {
     "data": {
      "text/plain": [
       "3"
      ]
     },
     "execution_count": 3,
     "metadata": {},
     "output_type": "execute_result"
    }
   ],
   "source": [
    "len([23, 2, 3])"
   ]
  },
  {
   "cell_type": "markdown",
   "id": "hearing-guarantee",
   "metadata": {},
   "source": [
    "The name of the function is `type`. The expression in\n",
    "parentheses is called the *argument* of the function. The\n",
    "argument is a value or variable that we are passing into the function as\n",
    "input to the function. The result, for the `type` function,\n",
    "is the type of the argument.\n",
    "\n",
    "\n",
    "\n",
    "It is common to say that a function \"takes\" an argument and \"returns\" a\n",
    "result. The result is called the *return value*."
   ]
  },
  {
   "cell_type": "markdown",
   "id": "desirable-greene",
   "metadata": {},
   "source": [
    "Built-in functions\n",
    "------------------\n",
    "\n",
    "Python provides a number of important built-in functions that we can use\n",
    "without needing to provide the function definition. The creators of\n",
    "Python wrote a set of functions to solve common problems and included\n",
    "them in Python for us to use.\n",
    "\n",
    "The `max` and `min` functions give us the largest\n",
    "and smallest values in a list, respectively:"
   ]
  },
  {
   "cell_type": "code",
   "execution_count": 4,
   "id": "present-regard",
   "metadata": {},
   "outputs": [
    {
     "data": {
      "text/plain": [
       "'w'"
      ]
     },
     "execution_count": 4,
     "metadata": {},
     "output_type": "execute_result"
    }
   ],
   "source": [
    "max('Hello world')"
   ]
  },
  {
   "cell_type": "code",
   "execution_count": 7,
   "id": "1894e8b3-a456-4909-be1d-52d2d550628a",
   "metadata": {},
   "outputs": [
    {
     "data": {
      "text/plain": [
       "'d'"
      ]
     },
     "execution_count": 7,
     "metadata": {},
     "output_type": "execute_result"
    }
   ],
   "source": [
    "min('helloworld')"
   ]
  },
  {
   "cell_type": "code",
   "execution_count": 8,
   "id": "93d0629e-a5af-4c2e-90fd-25f49272450a",
   "metadata": {},
   "outputs": [
    {
     "data": {
      "text/plain": [
       "10"
      ]
     },
     "execution_count": 8,
     "metadata": {},
     "output_type": "execute_result"
    }
   ],
   "source": [
    "min([100, 10, 90])"
   ]
  },
  {
   "cell_type": "markdown",
   "id": "composed-retro",
   "metadata": {},
   "source": [
    "The `max` function tells us the \"largest character\" in the\n",
    "string (which turns out to be the letter \"w\") and the `min`\n",
    "function shows us the smallest character (which turns out to be a\n",
    "space).\n",
    "\n",
    "Another very common built-in function is the `len` function\n",
    "which tells us how many items are in its argument. If the argument to\n",
    "`len` is a string, it returns the number of characters in the\n",
    "string."
   ]
  },
  {
   "cell_type": "code",
   "execution_count": 4,
   "id": "organized-browser",
   "metadata": {},
   "outputs": [
    {
     "data": {
      "text/plain": [
       "11"
      ]
     },
     "execution_count": 4,
     "metadata": {},
     "output_type": "execute_result"
    }
   ],
   "source": [
    "len('Hello world')"
   ]
  },
  {
   "cell_type": "markdown",
   "id": "hired-allowance",
   "metadata": {},
   "source": [
    "These functions are not limited to looking at strings. They can operate\n",
    "on any set of values.\n",
    "\n",
    "You should treat the names of built-in functions as reserved words\n",
    "(i.e., avoid using \"max\" as a variable name).\n",
    "\n",
    "Type conversion functions\n",
    "-------------------------\n",
    "\n",
    "\n",
    "\n",
    "Python also provides built-in functions that convert values from one\n",
    "type to another. The `int` function takes any value and\n",
    "converts it to an integer, if it can, or complains otherwise:"
   ]
  },
  {
   "cell_type": "code",
   "execution_count": 9,
   "id": "advanced-logan",
   "metadata": {},
   "outputs": [
    {
     "data": {
      "text/plain": [
       "32"
      ]
     },
     "execution_count": 9,
     "metadata": {},
     "output_type": "execute_result"
    }
   ],
   "source": [
    "int('32')"
   ]
  },
  {
   "cell_type": "code",
   "execution_count": 10,
   "id": "ancient-hindu",
   "metadata": {},
   "outputs": [
    {
     "ename": "ValueError",
     "evalue": "invalid literal for int() with base 10: 'Hello'",
     "output_type": "error",
     "traceback": [
      "\u001b[1;31m---------------------------------------------------------------------------\u001b[0m",
      "\u001b[1;31mValueError\u001b[0m                                Traceback (most recent call last)",
      "\u001b[1;32m~\\AppData\\Local\\Temp\\ipykernel_35100\\875039421.py\u001b[0m in \u001b[0;36m<cell line: 1>\u001b[1;34m()\u001b[0m\n\u001b[1;32m----> 1\u001b[1;33m \u001b[0mint\u001b[0m\u001b[1;33m(\u001b[0m\u001b[1;34m'Hello'\u001b[0m\u001b[1;33m)\u001b[0m\u001b[1;33m\u001b[0m\u001b[1;33m\u001b[0m\u001b[0m\n\u001b[0m",
      "\u001b[1;31mValueError\u001b[0m: invalid literal for int() with base 10: 'Hello'"
     ]
    }
   ],
   "source": [
    "int('Hello')"
   ]
  },
  {
   "cell_type": "markdown",
   "id": "optical-baker",
   "metadata": {},
   "source": [
    "`int` can convert floating-point values to integers, but it\n",
    "doesn't round off; it chops off the fraction part:"
   ]
  },
  {
   "cell_type": "code",
   "execution_count": 11,
   "id": "opposite-still",
   "metadata": {},
   "outputs": [
    {
     "data": {
      "text/plain": [
       "3"
      ]
     },
     "execution_count": 11,
     "metadata": {},
     "output_type": "execute_result"
    }
   ],
   "source": [
    "int(3.99999)"
   ]
  },
  {
   "cell_type": "code",
   "execution_count": 12,
   "id": "seventh-machine",
   "metadata": {},
   "outputs": [
    {
     "data": {
      "text/plain": [
       "-2"
      ]
     },
     "execution_count": 12,
     "metadata": {},
     "output_type": "execute_result"
    }
   ],
   "source": [
    "int(-2.3)"
   ]
  },
  {
   "cell_type": "markdown",
   "id": "cognitive-dinner",
   "metadata": {},
   "source": [
    "`float` converts integers and strings to floating-point\n",
    "numbers:"
   ]
  },
  {
   "cell_type": "code",
   "execution_count": 60,
   "id": "available-hamilton",
   "metadata": {},
   "outputs": [
    {
     "data": {
      "text/plain": [
       "32.0"
      ]
     },
     "execution_count": 60,
     "metadata": {},
     "output_type": "execute_result"
    }
   ],
   "source": [
    "float(32)"
   ]
  },
  {
   "cell_type": "code",
   "execution_count": 61,
   "id": "wicked-trouble",
   "metadata": {},
   "outputs": [
    {
     "data": {
      "text/plain": [
       "3.14159"
      ]
     },
     "execution_count": 61,
     "metadata": {},
     "output_type": "execute_result"
    }
   ],
   "source": [
    "float('3.14159')"
   ]
  },
  {
   "cell_type": "markdown",
   "id": "wooden-wireless",
   "metadata": {},
   "source": [
    "Finally, `str` converts its argument to a string:"
   ]
  },
  {
   "cell_type": "code",
   "execution_count": 13,
   "id": "minimal-finnish",
   "metadata": {},
   "outputs": [
    {
     "data": {
      "text/plain": [
       "'32'"
      ]
     },
     "execution_count": 13,
     "metadata": {},
     "output_type": "execute_result"
    }
   ],
   "source": [
    "str(32)"
   ]
  },
  {
   "cell_type": "code",
   "execution_count": 63,
   "id": "freelance-groove",
   "metadata": {},
   "outputs": [
    {
     "data": {
      "text/plain": [
       "'3.14159'"
      ]
     },
     "execution_count": 63,
     "metadata": {},
     "output_type": "execute_result"
    }
   ],
   "source": [
    "str(3.14159)"
   ]
  },
  {
   "cell_type": "markdown",
   "id": "immediate-nirvana",
   "metadata": {},
   "source": [
    "Math functions\n",
    "--------------\n",
    "\n",
    "\n",
    "\n",
    "Python has a `math` module that provides most of the familiar\n",
    "mathematical functions. Before we can use the module, we have to import\n",
    "it:"
   ]
  },
  {
   "cell_type": "code",
   "execution_count": 14,
   "id": "recognized-exclusion",
   "metadata": {},
   "outputs": [],
   "source": [
    "import math \n",
    "math.cos(90)"
   ]
  },
  {
   "cell_type": "markdown",
   "id": "satisfactory-danish",
   "metadata": {},
   "source": [
    "This statement creates a *module object* named math. If\n",
    "you print the module object, you get some information about it:\n",
    "\n"
   ]
  },
  {
   "cell_type": "code",
   "execution_count": null,
   "id": "44e19c3b-bea0-4b99-b905-dd0df625dca2",
   "metadata": {},
   "outputs": [],
   "source": [
    "from matplotlib.pyplot import plot\n",
    "\n",
    "plot()"
   ]
  },
  {
   "cell_type": "code",
   "execution_count": null,
   "id": "63411357-ee80-4d59-a89d-a30ad9848779",
   "metadata": {},
   "outputs": [],
   "source": [
    "math.cos()"
   ]
  },
  {
   "cell_type": "code",
   "execution_count": 34,
   "id": "9c3031e1-8cec-41f7-b119-fd486c0f93ae",
   "metadata": {},
   "outputs": [
    {
     "data": {
      "text/plain": [
       "9.00365494560708"
      ]
     },
     "execution_count": 34,
     "metadata": {},
     "output_type": "execute_result"
    }
   ],
   "source": [
    "# not recommended\n",
    "from math import *\n",
    "tan(80)"
   ]
  },
  {
   "cell_type": "code",
   "execution_count": 30,
   "id": "d14e9880-6800-4dab-a29f-5fc38cd13b55",
   "metadata": {},
   "outputs": [
    {
     "data": {
      "text/plain": [
       "-0.4480736161291701"
      ]
     },
     "execution_count": 30,
     "metadata": {},
     "output_type": "execute_result"
    }
   ],
   "source": [
    "from math import cos, sin\n",
    "\n",
    "cos(90)"
   ]
  },
  {
   "cell_type": "code",
   "execution_count": 31,
   "id": "cf11beb2-a7c6-495c-900b-3ce78da1423c",
   "metadata": {},
   "outputs": [
    {
     "ename": "NameError",
     "evalue": "name 'tan' is not defined",
     "output_type": "error",
     "traceback": [
      "\u001b[1;31m---------------------------------------------------------------------------\u001b[0m",
      "\u001b[1;31mNameError\u001b[0m                                 Traceback (most recent call last)",
      "\u001b[1;32m~\\AppData\\Local\\Temp\\ipykernel_35100\\1164304458.py\u001b[0m in \u001b[0;36m<cell line: 1>\u001b[1;34m()\u001b[0m\n\u001b[1;32m----> 1\u001b[1;33m \u001b[0mtan\u001b[0m\u001b[1;33m(\u001b[0m\u001b[1;36m80\u001b[0m\u001b[1;33m)\u001b[0m\u001b[1;33m\u001b[0m\u001b[1;33m\u001b[0m\u001b[0m\n\u001b[0m",
      "\u001b[1;31mNameError\u001b[0m: name 'tan' is not defined"
     ]
    }
   ],
   "source": [
    "tan(80)"
   ]
  },
  {
   "cell_type": "code",
   "execution_count": 29,
   "id": "fcd7c953-7bcf-4d4c-b281-dc4bc593157c",
   "metadata": {},
   "outputs": [
    {
     "ename": "NameError",
     "evalue": "name 'plt' is not defined",
     "output_type": "error",
     "traceback": [
      "\u001b[1;31m---------------------------------------------------------------------------\u001b[0m",
      "\u001b[1;31mNameError\u001b[0m                                 Traceback (most recent call last)",
      "\u001b[1;32m~\\AppData\\Local\\Temp\\ipykernel_35100\\4023604195.py\u001b[0m in \u001b[0;36m<cell line: 1>\u001b[1;34m()\u001b[0m\n\u001b[1;32m----> 1\u001b[1;33m \u001b[0mplt\u001b[0m\u001b[1;33m.\u001b[0m\u001b[0mplot\u001b[0m\u001b[1;33m(\u001b[0m\u001b[1;33m)\u001b[0m\u001b[1;33m\u001b[0m\u001b[1;33m\u001b[0m\u001b[0m\n\u001b[0m",
      "\u001b[1;31mNameError\u001b[0m: name 'plt' is not defined"
     ]
    }
   ],
   "source": [
    "plt.plot()"
   ]
  },
  {
   "cell_type": "code",
   "execution_count": 15,
   "id": "alien-prophet",
   "metadata": {},
   "outputs": [
    {
     "name": "stdout",
     "output_type": "stream",
     "text": [
      "<module 'math' (built-in)>\n"
     ]
    }
   ],
   "source": [
    "print(math)"
   ]
  },
  {
   "cell_type": "markdown",
   "id": "humanitarian-williams",
   "metadata": {},
   "source": [
    "The module object contains the functions and variables defined in the\n",
    "module. To access one of the functions, you have to specify the name of\n",
    "the module and the name of the function, separated by a dot (also known\n",
    "as a period). This format is called *dot notation*."
   ]
  },
  {
   "cell_type": "code",
   "execution_count": 21,
   "id": "3140c850-994e-436d-a14e-44da6dc6b043",
   "metadata": {},
   "outputs": [
    {
     "ename": "NameError",
     "evalue": "name 'ceil' is not defined",
     "output_type": "error",
     "traceback": [
      "\u001b[1;31m---------------------------------------------------------------------------\u001b[0m",
      "\u001b[1;31mNameError\u001b[0m                                 Traceback (most recent call last)",
      "\u001b[1;32m~\\AppData\\Local\\Temp\\ipykernel_35100\\3990097228.py\u001b[0m in \u001b[0;36m<cell line: 1>\u001b[1;34m()\u001b[0m\n\u001b[1;32m----> 1\u001b[1;33m \u001b[0mceil\u001b[0m\u001b[1;33m(\u001b[0m\u001b[1;36m11.9\u001b[0m\u001b[1;33m)\u001b[0m\u001b[1;33m\u001b[0m\u001b[1;33m\u001b[0m\u001b[0m\n\u001b[0m",
      "\u001b[1;31mNameError\u001b[0m: name 'ceil' is not defined"
     ]
    }
   ],
   "source": [
    "ceil(11.9)"
   ]
  },
  {
   "cell_type": "code",
   "execution_count": 20,
   "id": "e3d8a7f1-eab4-437f-a51a-19630446ec28",
   "metadata": {},
   "outputs": [
    {
     "data": {
      "text/plain": [
       "12"
      ]
     },
     "execution_count": 20,
     "metadata": {},
     "output_type": "execute_result"
    }
   ],
   "source": [
    "math.ceil(11.9)"
   ]
  },
  {
   "cell_type": "code",
   "execution_count": 18,
   "id": "7a887be3-bfde-49b9-9499-4c98d8d0d8b4",
   "metadata": {},
   "outputs": [
    {
     "data": {
      "text/plain": [
       "-0.5984600690578581"
      ]
     },
     "execution_count": 18,
     "metadata": {},
     "output_type": "execute_result"
    }
   ],
   "source": [
    "math.cos(180)"
   ]
  },
  {
   "cell_type": "code",
   "execution_count": 67,
   "id": "graduate-german",
   "metadata": {},
   "outputs": [
    {
     "data": {
      "text/plain": [
       "0.8939966636005579"
      ]
     },
     "execution_count": 67,
     "metadata": {},
     "output_type": "execute_result"
    }
   ],
   "source": [
    "math.sin(90)"
   ]
  },
  {
   "cell_type": "code",
   "execution_count": 22,
   "id": "0ce0679d-d80b-4cfd-b140-320dc5e60af0",
   "metadata": {},
   "outputs": [
    {
     "data": {
      "text/plain": [
       "3.141592653589793"
      ]
     },
     "execution_count": 22,
     "metadata": {},
     "output_type": "execute_result"
    }
   ],
   "source": [
    "math.pi"
   ]
  },
  {
   "cell_type": "code",
   "execution_count": 23,
   "id": "42e10ac1-766a-4d9a-a5e2-385b5d1cdf01",
   "metadata": {},
   "outputs": [
    {
     "data": {
      "text/plain": [
       "2.718281828459045"
      ]
     },
     "execution_count": 23,
     "metadata": {},
     "output_type": "execute_result"
    }
   ],
   "source": [
    "math.e"
   ]
  },
  {
   "cell_type": "code",
   "execution_count": 68,
   "id": "occupational-companion",
   "metadata": {},
   "outputs": [
    {
     "data": {
      "text/plain": [
       "3.141592653589793"
      ]
     },
     "execution_count": 68,
     "metadata": {},
     "output_type": "execute_result"
    }
   ],
   "source": [
    "math.pi"
   ]
  },
  {
   "cell_type": "code",
   "execution_count": 25,
   "id": "7e9e6628-2077-4b5c-92bf-394547b3b7cf",
   "metadata": {},
   "outputs": [
    {
     "data": {
      "text/plain": [
       "9.42477796076938"
      ]
     },
     "execution_count": 25,
     "metadata": {},
     "output_type": "execute_result"
    }
   ],
   "source": [
    "length = 3 * math.pi\n",
    "length"
   ]
  },
  {
   "cell_type": "code",
   "execution_count": 28,
   "id": "hollywood-portuguese",
   "metadata": {},
   "outputs": [
    {
     "data": {
      "text/plain": [
       "0.644217687237691"
      ]
     },
     "execution_count": 28,
     "metadata": {},
     "output_type": "execute_result"
    }
   ],
   "source": [
    "radians = 0.7\n",
    "h = math.sin(radians)\n",
    "h\n",
    "#height = math.sin(radians)"
   ]
  },
  {
   "cell_type": "markdown",
   "id": "isolated-cargo",
   "metadata": {},
   "source": [
    "The example finds the sine of `radians`. The name of\n",
    "the variable is a hint that `sin` and the other trigonometric\n",
    "functions (`cos`, `tan`, etc.) take arguments in\n",
    "radians. To convert from degrees to radians, divide by 360 and multiply\n",
    "by $2\n",
    "\\pi$:"
   ]
  },
  {
   "cell_type": "code",
   "execution_count": 15,
   "id": "geographic-kernel",
   "metadata": {},
   "outputs": [
    {
     "data": {
      "text/plain": [
       "0.7071067811865476"
      ]
     },
     "execution_count": 15,
     "metadata": {},
     "output_type": "execute_result"
    }
   ],
   "source": [
    "degrees = 45\n",
    "radians = degrees / 360.0 * 2 * math.pi\n",
    "math.sin(radians)"
   ]
  },
  {
   "cell_type": "markdown",
   "id": "convenient-smith",
   "metadata": {},
   "source": [
    "The expression `math.pi` gets the variable `pi`\n",
    "from the math module. The value of this variable is an approximation of\n",
    "$\\pi$, accurate to about 15 digits.\n",
    "\n"
   ]
  },
  {
   "cell_type": "markdown",
   "id": "aggressive-mining",
   "metadata": {},
   "source": [
    "Adding new functions\n",
    "--------------------\n",
    "\n",
    "So far, we have only been using the functions that come with Python, but\n",
    "it is also possible to add new functions. A *function\n",
    "definition* specifies the name of a new function and the\n",
    "sequence of statements that execute when the function is called. Once we\n",
    "define a function, we can reuse the function over and over throughout\n",
    "our program.\n",
    "\n",
    "\n",
    "\n",
    "Here is an example:"
   ]
  },
  {
   "cell_type": "code",
   "execution_count": null,
   "id": "e440e687-4600-4b60-8587-d463e8c66666",
   "metadata": {},
   "outputs": [],
   "source": [
    "def fun_name():\n",
    "    #line 1\n",
    "    #line 2\n",
    "    #line 3"
   ]
  },
  {
   "cell_type": "code",
   "execution_count": 52,
   "id": "cc463bb1-ef3b-4c92-94b0-37179a8efe51",
   "metadata": {},
   "outputs": [
    {
     "data": {
      "text/plain": [
       "8.0"
      ]
     },
     "execution_count": 52,
     "metadata": {},
     "output_type": "execute_result"
    }
   ],
   "source": [
    "math.pow(2, 3)"
   ]
  },
  {
   "cell_type": "code",
   "execution_count": 57,
   "id": "9e11e9ed-95d2-4f4b-8b38-04946819c537",
   "metadata": {},
   "outputs": [],
   "source": [
    "def calc_pow(num, power):\n",
    "    \"\"\"\n",
    "    Hey this is a fun to cal the power\n",
    "    \n",
    "    Params:\n",
    "    num: \n",
    "    power:\n",
    "    \n",
    "    \"\"\"\n",
    "    print(float(num**power))"
   ]
  },
  {
   "cell_type": "code",
   "execution_count": 56,
   "id": "698b4c6e-2d9b-4203-aea0-611271fe4c19",
   "metadata": {},
   "outputs": [
    {
     "data": {
      "text/plain": [
       "\u001b[1;31mSignature:\u001b[0m \u001b[0mcalc_pow\u001b[0m\u001b[1;33m(\u001b[0m\u001b[0mnum\u001b[0m\u001b[1;33m,\u001b[0m \u001b[0mpower\u001b[0m\u001b[1;33m)\u001b[0m\u001b[1;33m\u001b[0m\u001b[1;33m\u001b[0m\u001b[0m\n",
       "\u001b[1;31mDocstring:\u001b[0m\n",
       "Hey this is a fun to cal the power\n",
       "\n",
       "Params:\n",
       "num: \n",
       "power:\n",
       "\u001b[1;31mFile:\u001b[0m      c:\\users\\dell\\appdata\\local\\temp\\ipykernel_35100\\1052306738.py\n",
       "\u001b[1;31mType:\u001b[0m      function\n"
      ]
     },
     "metadata": {},
     "output_type": "display_data"
    }
   ],
   "source": [
    "calc_pow?"
   ]
  },
  {
   "cell_type": "code",
   "execution_count": 58,
   "id": "94ac5e95-2101-4520-9c74-e326578232f1",
   "metadata": {},
   "outputs": [
    {
     "name": "stdout",
     "output_type": "stream",
     "text": [
      "8.0\n"
     ]
    }
   ],
   "source": [
    "calc_pow(2, 3)"
   ]
  },
  {
   "cell_type": "code",
   "execution_count": 38,
   "id": "ebfa88e9-37ec-45a7-be67-dcbdbfd5b64e",
   "metadata": {},
   "outputs": [
    {
     "ename": "NameError",
     "evalue": "name 'forgot_to_run' is not defined",
     "output_type": "error",
     "traceback": [
      "\u001b[1;31m---------------------------------------------------------------------------\u001b[0m",
      "\u001b[1;31mNameError\u001b[0m                                 Traceback (most recent call last)",
      "\u001b[1;32m~\\AppData\\Local\\Temp\\ipykernel_35100\\935608742.py\u001b[0m in \u001b[0;36m<cell line: 1>\u001b[1;34m()\u001b[0m\n\u001b[1;32m----> 1\u001b[1;33m \u001b[0mforgot_to_run\u001b[0m\u001b[1;33m(\u001b[0m\u001b[1;33m)\u001b[0m\u001b[1;33m\u001b[0m\u001b[1;33m\u001b[0m\u001b[0m\n\u001b[0m\u001b[0;32m      2\u001b[0m \u001b[1;33m\u001b[0m\u001b[0m\n\u001b[0;32m      3\u001b[0m \u001b[1;32mdef\u001b[0m \u001b[0mforgot_to_run\u001b[0m\u001b[1;33m(\u001b[0m\u001b[1;33m)\u001b[0m\u001b[1;33m:\u001b[0m\u001b[1;33m\u001b[0m\u001b[1;33m\u001b[0m\u001b[0m\n\u001b[0;32m      4\u001b[0m     \u001b[0mprint\u001b[0m\u001b[1;33m(\u001b[0m\u001b[1;34m\"forgot to run\"\u001b[0m\u001b[1;33m)\u001b[0m\u001b[1;33m\u001b[0m\u001b[1;33m\u001b[0m\u001b[0m\n",
      "\u001b[1;31mNameError\u001b[0m: name 'forgot_to_run' is not defined"
     ]
    }
   ],
   "source": [
    "forgot_to_run()\n",
    "\n",
    "def forgot_to_run():\n",
    "    print(\"forgot to run\")"
   ]
  },
  {
   "cell_type": "code",
   "execution_count": 37,
   "id": "7625d13e-5022-41d0-910e-a2459ef98036",
   "metadata": {},
   "outputs": [
    {
     "ename": "NameError",
     "evalue": "name 'forgot_to_run' is not defined",
     "output_type": "error",
     "traceback": [
      "\u001b[1;31m---------------------------------------------------------------------------\u001b[0m",
      "\u001b[1;31mNameError\u001b[0m                                 Traceback (most recent call last)",
      "\u001b[1;32m~\\AppData\\Local\\Temp\\ipykernel_35100\\1317266526.py\u001b[0m in \u001b[0;36m<cell line: 1>\u001b[1;34m()\u001b[0m\n\u001b[1;32m----> 1\u001b[1;33m \u001b[0mforgot_to_run\u001b[0m\u001b[1;33m(\u001b[0m\u001b[1;33m)\u001b[0m\u001b[1;33m\u001b[0m\u001b[1;33m\u001b[0m\u001b[0m\n\u001b[0m",
      "\u001b[1;31mNameError\u001b[0m: name 'forgot_to_run' is not defined"
     ]
    }
   ],
   "source": []
  },
  {
   "cell_type": "code",
   "execution_count": 35,
   "id": "psychological-constant",
   "metadata": {},
   "outputs": [],
   "source": [
    "def print_lyrics():\n",
    "    print(\"I'm a lumberjack, and I'm okay.\")\n",
    "    print('I sleep all night and I work all day.')"
   ]
  },
  {
   "cell_type": "code",
   "execution_count": 36,
   "id": "945cab05-30c1-4e8a-8f9e-7e6b798364a6",
   "metadata": {},
   "outputs": [
    {
     "name": "stdout",
     "output_type": "stream",
     "text": [
      "I'm a lumberjack, and I'm okay.\n",
      "I sleep all night and I work all day.\n"
     ]
    }
   ],
   "source": [
    "print_lyrics()"
   ]
  },
  {
   "cell_type": "code",
   "execution_count": 51,
   "id": "eaa67558-ea4d-4e45-a392-23e840bb5554",
   "metadata": {},
   "outputs": [],
   "source": [
    "def print_welcome(name):\n",
    "    print(\"Welcome \",  name)"
   ]
  },
  {
   "cell_type": "code",
   "execution_count": 47,
   "id": "c6d5a854-5d91-4467-a7a4-89d479b85c41",
   "metadata": {},
   "outputs": [
    {
     "name": "stdout",
     "output_type": "stream",
     "text": [
      "Welcome  Ismail\n"
     ]
    }
   ],
   "source": [
    "print_welcome(\"Ismail\")"
   ]
  },
  {
   "cell_type": "code",
   "execution_count": 50,
   "id": "ea89b5eb-17fd-4a53-bd42-dcef9f6818de",
   "metadata": {},
   "outputs": [
    {
     "name": "stdout",
     "output_type": "stream",
     "text": [
      "Welcome  3\n"
     ]
    }
   ],
   "source": [
    "print_welcome(3)"
   ]
  },
  {
   "cell_type": "code",
   "execution_count": 43,
   "id": "f43e4690-f202-4e77-b9df-4947801631fa",
   "metadata": {},
   "outputs": [
    {
     "name": "stdout",
     "output_type": "stream",
     "text": [
      "Welcome  olga\n"
     ]
    }
   ],
   "source": [
    "x = \"olga\"\n",
    "print_welcome(x)"
   ]
  },
  {
   "cell_type": "markdown",
   "id": "south-exclusive",
   "metadata": {},
   "source": [
    "`def` is a keyword that indicates that this is a function\n",
    "definition. The name of the function is `print_lyrics`. The rules for\n",
    "function names are the same as for variable names: letters, numbers and\n",
    "some punctuation marks are legal, but the first character can't be a\n",
    "number. You can't use a keyword as the name of a function, and you\n",
    "should avoid having a variable and a function with the same name.\n",
    "\n",
    "The empty parentheses after the name indicate that this function doesn't\n",
    "take any arguments. Later we will build functions that take arguments as\n",
    "their inputs.\n",
    "\n",
    "\n",
    "\n",
    "The first line of the function definition is called the\n",
    "*header*; the rest is called the *body*.\n",
    "The header has to end with a colon and the body has to be indented. By\n",
    "convention, the indentation is always four spaces. The body can contain\n",
    "any number of statements.\n",
    "\n",
    "\n",
    "Defining a function creates a variable with the same name."
   ]
  },
  {
   "cell_type": "code",
   "execution_count": 73,
   "id": "rapid-mathematics",
   "metadata": {},
   "outputs": [
    {
     "name": "stdout",
     "output_type": "stream",
     "text": [
      "I'm a lumberjack, and I'm okay.\n",
      "I sleep all night and I work all day.\n"
     ]
    }
   ],
   "source": [
    "print_lyrics()"
   ]
  },
  {
   "cell_type": "code",
   "execution_count": 75,
   "id": "unavailable-stock",
   "metadata": {},
   "outputs": [
    {
     "name": "stdout",
     "output_type": "stream",
     "text": [
      "<function print_lyrics at 0x00000235FF15D168>\n"
     ]
    }
   ],
   "source": [
    "print(print_lyrics)"
   ]
  },
  {
   "cell_type": "code",
   "execution_count": 18,
   "id": "tested-arlington",
   "metadata": {},
   "outputs": [
    {
     "name": "stdout",
     "output_type": "stream",
     "text": [
      "<class 'function'>\n"
     ]
    }
   ],
   "source": [
    "print(type(print_lyrics))"
   ]
  },
  {
   "cell_type": "markdown",
   "id": "hearing-romania",
   "metadata": {},
   "source": [
    "The value of `print_lyrics` is a *function object*, which\n",
    "has type \"function\".\n",
    "\n",
    "\n",
    "\n",
    "The syntax for calling the new function is the same as for built-in\n",
    "functions:"
   ]
  },
  {
   "cell_type": "code",
   "execution_count": 19,
   "id": "diverse-spring",
   "metadata": {},
   "outputs": [
    {
     "name": "stdout",
     "output_type": "stream",
     "text": [
      "I'm a lumberjack, and I'm okay.\n",
      "I sleep all night and I work all day.\n"
     ]
    }
   ],
   "source": [
    "print_lyrics()"
   ]
  },
  {
   "cell_type": "markdown",
   "id": "hollywood-elder",
   "metadata": {},
   "source": [
    "Once you have defined a function, you can use it inside another\n",
    "function. For example, to repeat the previous refrain, we could write a\n",
    "function called `repeat_lyrics`:"
   ]
  },
  {
   "cell_type": "code",
   "execution_count": 78,
   "id": "fatal-scratch",
   "metadata": {},
   "outputs": [],
   "source": [
    "def repeat_lyrics():\n",
    "    print_lyrics()\n",
    "    print_lyrics()"
   ]
  },
  {
   "cell_type": "markdown",
   "id": "administrative-halifax",
   "metadata": {},
   "source": [
    "And then call `repeat_lyrics`:"
   ]
  },
  {
   "cell_type": "code",
   "execution_count": 79,
   "id": "blocked-relationship",
   "metadata": {
    "tags": []
   },
   "outputs": [
    {
     "name": "stdout",
     "output_type": "stream",
     "text": [
      "6\n",
      "-0.4480736161291701\n",
      "I'm a lumberjack, and I'm okay.\n",
      "I sleep all night and I work all day.\n",
      "I'm a lumberjack, and I'm okay.\n",
      "I sleep all night and I work all day.\n"
     ]
    }
   ],
   "source": [
    "repeat_lyrics()"
   ]
  },
  {
   "cell_type": "markdown",
   "id": "chinese-partnership",
   "metadata": {},
   "source": [
    "Function definitions get executed just like other\n",
    "statements, but the effect is to create function objects. The statements\n",
    "inside the function do not get executed until the function is called,\n",
    "and the function definition generates no output.\n",
    "\n",
    "\n",
    "As you might expect, you have to create a function before you can\n",
    "execute it. In other words, the function definition has to be executed\n",
    "before the first time it is called."
   ]
  },
  {
   "cell_type": "code",
   "execution_count": null,
   "id": "41099392-a8f4-4b06-9a70-d09c099277ca",
   "metadata": {},
   "outputs": [],
   "source": []
  },
  {
   "cell_type": "code",
   "execution_count": 60,
   "id": "b8e23550-deac-4517-a5c4-fa8b0c2070c9",
   "metadata": {},
   "outputs": [
    {
     "ename": "SyntaxError",
     "evalue": "invalid syntax (3017351243.py, line 4)",
     "output_type": "error",
     "traceback": [
      "\u001b[1;36m  File \u001b[1;32m\"C:\\Users\\dell\\AppData\\Local\\Temp\\ipykernel_35100\\3017351243.py\"\u001b[1;36m, line \u001b[1;32m4\u001b[0m\n\u001b[1;33m    print('I sleep all night and I work all day.')\u001b[0m\n\u001b[1;37m    ^\u001b[0m\n\u001b[1;31mSyntaxError\u001b[0m\u001b[1;31m:\u001b[0m invalid syntax\n"
     ]
    }
   ],
   "source": [
    "def print_lyrics():\n",
    "    print(\"I'm a lumberjack, and I'm okay.\")\n",
    "    print('I sleep all night and I work all day.')\n",
    "    print('I sleep all night and I work all day.')"
   ]
  },
  {
   "cell_type": "code",
   "execution_count": 59,
   "id": "ee690255-3ea1-489b-8ff7-973ca7436fbd",
   "metadata": {},
   "outputs": [
    {
     "name": "stdout",
     "output_type": "stream",
     "text": [
      "I'm a lumberjack, and I'm okay.\n",
      "I sleep all night and I work all day.\n"
     ]
    }
   ],
   "source": [
    "print_lyrics()"
   ]
  },
  {
   "cell_type": "code",
   "execution_count": 63,
   "id": "209edece-1b1b-407b-94d6-505bce43606d",
   "metadata": {},
   "outputs": [],
   "source": [
    "def print_welcome(name):\n",
    "    print(\"Welcome \",  name)\n",
    "    print(\"function_finished\")"
   ]
  },
  {
   "cell_type": "code",
   "execution_count": 64,
   "id": "e3d7be39-91ef-466e-9364-0199533013f8",
   "metadata": {},
   "outputs": [
    {
     "name": "stdout",
     "output_type": "stream",
     "text": [
      "Welcome  Ghislian\n",
      "function_finished\n",
      "done\n"
     ]
    }
   ],
   "source": [
    "name = \"Ghislian\"\n",
    "print_welcome(name)\n",
    "print(\"done\")"
   ]
  },
  {
   "cell_type": "markdown",
   "id": "boring-emperor",
   "metadata": {},
   "source": [
    "Flow of execution\n",
    "-----------------\n",
    "\n",
    "\n",
    "\n",
    "In order to ensure that a function is defined before its first use, you\n",
    "have to know the order in which statements are executed, which is called\n",
    "the *flow of execution*.\n",
    "\n",
    "Execution always begins at the first statement of the program.\n",
    "Statements are executed one at a time, in order from top to bottom.\n",
    "\n",
    "Function *definitions* do not alter the flow of execution of the\n",
    "program, but remember that statements inside the function are not\n",
    "executed until the function is called.\n",
    "\n",
    "A function call is like a detour in the flow of execution. Instead of\n",
    "going to the next statement, the flow jumps to the body of the function,\n",
    "executes all the statements there, and then comes back to pick up where\n",
    "it left off.\n",
    "\n",
    "That sounds simple enough, until you remember that one function can call\n",
    "another. While in the middle of one function, the program might have to\n",
    "execute the statements in another function. But while executing that new\n",
    "function, the program might have to execute yet another function!\n",
    "\n",
    "Fortunately, Python is good at keeping track of where it is, so each\n",
    "time a function completes, the program picks up where it left off in the\n",
    "function that called it. When it gets to the end of the program, it\n",
    "terminates.\n",
    "\n",
    "What's the moral of this sordid tale? When you read a program, you don't\n",
    "always want to read from top to bottom. Sometimes it makes more sense if\n",
    "you follow the flow of execution."
   ]
  },
  {
   "cell_type": "markdown",
   "id": "bottom-textbook",
   "metadata": {},
   "source": [
    "Parameters and arguments\n",
    "------------------------\n",
    "\n",
    "\n",
    "\n",
    "\n",
    "Some of the built-in functions we have seen require arguments. For\n",
    "example, when you call `math.sin` you pass a number as an\n",
    "argument. Some functions take more than one argument:\n",
    "`math.pow` takes two, the base and the exponent.\n",
    "\n",
    "Inside the function, the arguments are assigned to variables called\n",
    "*parameters*. Here is an example of a user-defined\n",
    "function that takes an argument:"
   ]
  },
  {
   "cell_type": "code",
   "execution_count": null,
   "id": "endless-roberts",
   "metadata": {},
   "outputs": [],
   "source": [
    "math.sin(90)"
   ]
  },
  {
   "cell_type": "code",
   "execution_count": 92,
   "id": "unknown-handling",
   "metadata": {},
   "outputs": [
    {
     "data": {
      "text/plain": [
       "8.0"
      ]
     },
     "execution_count": 92,
     "metadata": {},
     "output_type": "execute_result"
    }
   ],
   "source": [
    "math.pow(2, 3)"
   ]
  },
  {
   "cell_type": "code",
   "execution_count": 85,
   "id": "hawaiian-boundary",
   "metadata": {},
   "outputs": [],
   "source": [
    "def print_twice(name):# name = x\n",
    "    print(name)\n",
    "    print(name)\n",
    "    \n"
   ]
  },
  {
   "cell_type": "markdown",
   "id": "compound-magic",
   "metadata": {},
   "source": [
    "This function assigns the argument to a parameter named\n",
    "`bruce`. When the function is called, it prints the value of\n",
    "the parameter (whatever it is) twice.\n",
    "\n",
    "This function works with any value that can be printed."
   ]
  },
  {
   "cell_type": "code",
   "execution_count": 94,
   "id": "drawn-classroom",
   "metadata": {},
   "outputs": [
    {
     "name": "stdout",
     "output_type": "stream",
     "text": [
      "hjfjh\n",
      "hjfjh\n"
     ]
    }
   ],
   "source": [
    "y = print_twice(\"hjfjh\")"
   ]
  },
  {
   "cell_type": "code",
   "execution_count": 95,
   "id": "ahead-appendix",
   "metadata": {},
   "outputs": [
    {
     "name": "stdout",
     "output_type": "stream",
     "text": [
      "None\n"
     ]
    }
   ],
   "source": [
    "print(y)"
   ]
  },
  {
   "cell_type": "code",
   "execution_count": 91,
   "id": "ranking-press",
   "metadata": {},
   "outputs": [
    {
     "name": "stdout",
     "output_type": "stream",
     "text": [
      "Ali\n",
      "Ali\n"
     ]
    }
   ],
   "source": [
    "x = \"Ali\"\n",
    "print_twice(x)"
   ]
  },
  {
   "cell_type": "code",
   "execution_count": 86,
   "id": "harmful-trail",
   "metadata": {},
   "outputs": [
    {
     "name": "stdout",
     "output_type": "stream",
     "text": [
      "Spam\n",
      "Spam\n"
     ]
    }
   ],
   "source": [
    "print_twice('Spam')"
   ]
  },
  {
   "cell_type": "code",
   "execution_count": 87,
   "id": "latter-incident",
   "metadata": {},
   "outputs": [
    {
     "name": "stdout",
     "output_type": "stream",
     "text": [
      "17\n",
      "17\n"
     ]
    }
   ],
   "source": [
    "print_twice(17)"
   ]
  },
  {
   "cell_type": "code",
   "execution_count": 88,
   "id": "artistic-desktop",
   "metadata": {},
   "outputs": [
    {
     "name": "stdout",
     "output_type": "stream",
     "text": [
      "3.141592653589793\n",
      "3.141592653589793\n"
     ]
    }
   ],
   "source": [
    "print_twice(math.pi)"
   ]
  },
  {
   "cell_type": "markdown",
   "id": "concerned-polls",
   "metadata": {},
   "source": [
    "The same rules of composition that apply to built-in functions also\n",
    "apply to user-defined functions, so we can use any kind of expression as\n",
    "an argument for `print_twice`:"
   ]
  },
  {
   "cell_type": "code",
   "execution_count": 89,
   "id": "stuck-composite",
   "metadata": {},
   "outputs": [
    {
     "data": {
      "text/plain": [
       "'Spam Spam Spam Spam '"
      ]
     },
     "execution_count": 89,
     "metadata": {},
     "output_type": "execute_result"
    }
   ],
   "source": [
    "'Spam '*4"
   ]
  },
  {
   "cell_type": "code",
   "execution_count": 27,
   "id": "bound-literature",
   "metadata": {},
   "outputs": [
    {
     "name": "stdout",
     "output_type": "stream",
     "text": [
      "Spam Spam Spam Spam \n",
      "Spam Spam Spam Spam \n"
     ]
    }
   ],
   "source": [
    "print_twice('Spam '*4)"
   ]
  },
  {
   "cell_type": "code",
   "execution_count": 90,
   "id": "explicit-melissa",
   "metadata": {},
   "outputs": [
    {
     "name": "stdout",
     "output_type": "stream",
     "text": [
      "-1.0\n",
      "-1.0\n"
     ]
    }
   ],
   "source": [
    "print_twice(math.cos(math.pi))"
   ]
  },
  {
   "cell_type": "markdown",
   "id": "mental-advancement",
   "metadata": {},
   "source": [
    "The argument is evaluated before the function is called, so in the\n",
    "examples the expressions `'Spam '*4` and `math.cos(math.pi)`\n",
    "are only evaluated once.\n",
    "\n",
    "\n",
    "\n",
    "You can also use a variable as an argument:"
   ]
  },
  {
   "cell_type": "code",
   "execution_count": 29,
   "id": "baking-heater",
   "metadata": {},
   "outputs": [
    {
     "name": "stdout",
     "output_type": "stream",
     "text": [
      "Eric, the half a bee.\n",
      "Eric, the half a bee.\n"
     ]
    }
   ],
   "source": [
    "michael = 'Eric, the half a bee.'\n",
    "print_twice(michael)"
   ]
  },
  {
   "cell_type": "markdown",
   "id": "minus-chemical",
   "metadata": {},
   "source": [
    "The name of the variable we pass as an argument (`michael`)\n",
    "has nothing to do with the name of the parameter (`bruce`).\n",
    "It doesn't matter what the value was called back home (in the caller);\n",
    "here in `print_twice`, we call everybody `bruce`."
   ]
  },
  {
   "cell_type": "markdown",
   "id": "conventional-start",
   "metadata": {},
   "source": [
    "Fruitful functions and void functions\n",
    "-------------------------------------\n",
    "\n",
    "\n",
    "\n",
    "Some of the functions we are using, such as the math functions, yield\n",
    "results; for lack of a better name, I call them *fruitful\n",
    "functions*. Other functions, like `print_twice`, perform an\n",
    "action but don't return a value. They are called *void\n",
    "functions*.\n",
    "\n",
    "When you call a fruitful function, you almost always want to do\n",
    "something with the result; for example, you might assign it to a\n",
    "variable or use it as part of an expression:"
   ]
  },
  {
   "cell_type": "code",
   "execution_count": 65,
   "id": "96a05351-df47-4d35-9406-da4a8f9b01eb",
   "metadata": {},
   "outputs": [],
   "source": [
    "def print_welcome(name):\n",
    "    print(\"Welcome \",  name)\n",
    "    print(\"function_finished\")"
   ]
  },
  {
   "cell_type": "code",
   "execution_count": 66,
   "id": "c1ae03eb-1665-489e-b978-ebe28f1c382c",
   "metadata": {},
   "outputs": [
    {
     "name": "stdout",
     "output_type": "stream",
     "text": [
      "Welcome  Ghislian\n",
      "function_finished\n"
     ]
    }
   ],
   "source": [
    " print_welcome(name)"
   ]
  },
  {
   "cell_type": "code",
   "execution_count": 67,
   "id": "8b45c5bf-8224-4778-aa85-d951952044fe",
   "metadata": {},
   "outputs": [
    {
     "name": "stdout",
     "output_type": "stream",
     "text": [
      "Welcome  Ghislian\n",
      "function_finished\n"
     ]
    },
    {
     "data": {
      "text/plain": [
       "NoneType"
      ]
     },
     "execution_count": 67,
     "metadata": {},
     "output_type": "execute_result"
    }
   ],
   "source": [
    "type( print_welcome(name))"
   ]
  },
  {
   "cell_type": "code",
   "execution_count": 68,
   "id": "c3a0105e-9ff2-468c-ada5-2bdee37a6e5a",
   "metadata": {},
   "outputs": [],
   "source": [
    "def calc_power(a, b):\n",
    "    result = a**b\n",
    "    return result"
   ]
  },
  {
   "cell_type": "code",
   "execution_count": 71,
   "id": "0cb768e0-bcc9-4d31-b399-98f7ff7a95b8",
   "metadata": {},
   "outputs": [
    {
     "data": {
      "text/plain": [
       "48"
      ]
     },
     "execution_count": 71,
     "metadata": {},
     "output_type": "execute_result"
    }
   ],
   "source": [
    "6 * calc_power(2, 3)"
   ]
  },
  {
   "cell_type": "code",
   "execution_count": 30,
   "id": "aggressive-naples",
   "metadata": {},
   "outputs": [],
   "source": [
    "x = math.cos(radians)\n",
    "golden = (math.sqrt(5) + 1) / 2"
   ]
  },
  {
   "cell_type": "markdown",
   "id": "hawaiian-lighter",
   "metadata": {},
   "source": [
    "But in a script, if you call a fruitful function and do not store the\n",
    "result of the function in a variable, the return value vanishes into the\n",
    "mist!"
   ]
  },
  {
   "cell_type": "code",
   "execution_count": 96,
   "id": "simple-artwork",
   "metadata": {},
   "outputs": [
    {
     "data": {
      "text/plain": [
       "2.23606797749979"
      ]
     },
     "execution_count": 96,
     "metadata": {},
     "output_type": "execute_result"
    }
   ],
   "source": [
    "math.sqrt(5)"
   ]
  },
  {
   "cell_type": "markdown",
   "id": "exceptional-scanning",
   "metadata": {},
   "source": [
    "This script computes the square root of 5, but since it doesn't store\n",
    "the result in a variable or display the result, it is not very useful.\n",
    "\n",
    "\n",
    "\n",
    "Void functions might display something on the screen or have some other\n",
    "effect, but they don't have a return value. If you try to assign the\n",
    "result to a variable, you get a special value called `None`."
   ]
  },
  {
   "cell_type": "code",
   "execution_count": 33,
   "id": "central-gates",
   "metadata": {},
   "outputs": [
    {
     "name": "stdout",
     "output_type": "stream",
     "text": [
      "Bing\n",
      "Bing\n"
     ]
    }
   ],
   "source": [
    "result = print_twice('Bing')"
   ]
  },
  {
   "cell_type": "code",
   "execution_count": 34,
   "id": "referenced-delay",
   "metadata": {},
   "outputs": [
    {
     "name": "stdout",
     "output_type": "stream",
     "text": [
      "None\n"
     ]
    }
   ],
   "source": [
    "print(result)"
   ]
  },
  {
   "cell_type": "markdown",
   "id": "opponent-function",
   "metadata": {},
   "source": [
    "The value `None` is not the same as the string \"None\". It\n",
    "is a special value that has its own type:"
   ]
  },
  {
   "cell_type": "code",
   "execution_count": 35,
   "id": "cardiovascular-stream",
   "metadata": {},
   "outputs": [
    {
     "name": "stdout",
     "output_type": "stream",
     "text": [
      "<class 'NoneType'>\n"
     ]
    }
   ],
   "source": [
    "print(type(None))"
   ]
  },
  {
   "cell_type": "markdown",
   "id": "serious-works",
   "metadata": {},
   "source": [
    "To return a result from a function, we use the `return`\n",
    "statement in our function. For example, we could make a very simple\n",
    "function called `addtwo` that adds two numbers together and\n",
    "returns a result."
   ]
  },
  {
   "cell_type": "code",
   "execution_count": 110,
   "id": "statutory-rapid",
   "metadata": {},
   "outputs": [],
   "source": [
    "#void\n",
    "def fun_name(a, b):\n",
    "    print(a**b)\n",
    "    "
   ]
  },
  {
   "cell_type": "code",
   "execution_count": 111,
   "id": "norwegian-halifax",
   "metadata": {},
   "outputs": [
    {
     "name": "stdout",
     "output_type": "stream",
     "text": [
      "8\n"
     ]
    }
   ],
   "source": [
    "result = fun_name(2, 3)"
   ]
  },
  {
   "cell_type": "code",
   "execution_count": 115,
   "id": "present-parameter",
   "metadata": {},
   "outputs": [
    {
     "ename": "TypeError",
     "evalue": "unsupported operand type(s) for *: 'NoneType' and 'int'",
     "output_type": "error",
     "traceback": [
      "\u001b[1;31m---------------------------------------------------------------------------\u001b[0m",
      "\u001b[1;31mTypeError\u001b[0m                                 Traceback (most recent call last)",
      "\u001b[1;32m<ipython-input-115-77859b507055>\u001b[0m in \u001b[0;36m<module>\u001b[1;34m\u001b[0m\n\u001b[1;32m----> 1\u001b[1;33m \u001b[0mprint\u001b[0m\u001b[1;33m(\u001b[0m\u001b[0mresult\u001b[0m\u001b[1;33m*\u001b[0m\u001b[1;36m2\u001b[0m\u001b[1;33m)\u001b[0m\u001b[1;33m\u001b[0m\u001b[1;33m\u001b[0m\u001b[0m\n\u001b[0m",
      "\u001b[1;31mTypeError\u001b[0m: unsupported operand type(s) for *: 'NoneType' and 'int'"
     ]
    }
   ],
   "source": [
    "print(result*2)"
   ]
  },
  {
   "cell_type": "code",
   "execution_count": 97,
   "id": "broke-preference",
   "metadata": {},
   "outputs": [],
   "source": [
    "def addtwo(a, b):\n",
    "    added = a + b\n",
    "    return added\n",
    "\n"
   ]
  },
  {
   "cell_type": "code",
   "execution_count": 113,
   "id": "extensive-tooth",
   "metadata": {},
   "outputs": [],
   "source": [
    "x = addtwo(3, 5)"
   ]
  },
  {
   "cell_type": "code",
   "execution_count": 114,
   "id": "configured-blade",
   "metadata": {},
   "outputs": [
    {
     "name": "stdout",
     "output_type": "stream",
     "text": [
      "10\n"
     ]
    }
   ],
   "source": [
    "print(x+2)"
   ]
  },
  {
   "cell_type": "code",
   "execution_count": 107,
   "id": "auburn-journalism",
   "metadata": {},
   "outputs": [
    {
     "name": "stdout",
     "output_type": "stream",
     "text": [
      "8\n"
     ]
    }
   ],
   "source": [
    "print(addtwo(3, 5))"
   ]
  },
  {
   "cell_type": "code",
   "execution_count": 99,
   "id": "stone-chorus",
   "metadata": {},
   "outputs": [
    {
     "data": {
      "text/plain": [
       "8"
      ]
     },
     "execution_count": 99,
     "metadata": {},
     "output_type": "execute_result"
    }
   ],
   "source": [
    "2**3"
   ]
  },
  {
   "cell_type": "code",
   "execution_count": 125,
   "id": "vietnamese-passenger",
   "metadata": {},
   "outputs": [],
   "source": [
    "import funs"
   ]
  },
  {
   "cell_type": "code",
   "execution_count": 126,
   "id": "occupational-organ",
   "metadata": {},
   "outputs": [
    {
     "data": {
      "text/plain": [
       "5"
      ]
     },
     "execution_count": 126,
     "metadata": {},
     "output_type": "execute_result"
    }
   ],
   "source": [
    "funs.add_in_another_place(3, 2)"
   ]
  },
  {
   "cell_type": "code",
   "execution_count": 127,
   "id": "scenic-sucking",
   "metadata": {},
   "outputs": [],
   "source": [
    "def sum_lst(l):\n",
    "    return sum(l)"
   ]
  },
  {
   "cell_type": "code",
   "execution_count": 128,
   "id": "temporal-georgia",
   "metadata": {},
   "outputs": [
    {
     "data": {
      "text/plain": [
       "10"
      ]
     },
     "execution_count": 128,
     "metadata": {},
     "output_type": "execute_result"
    }
   ],
   "source": [
    "lst = [1,2, 3, 4]\n",
    "sum_lst(lst)"
   ]
  },
  {
   "cell_type": "code",
   "execution_count": 100,
   "id": "front-variation",
   "metadata": {},
   "outputs": [],
   "source": [
    "def calc_power(b, p):\n",
    "    x = b**p\n",
    "    return x"
   ]
  },
  {
   "cell_type": "code",
   "execution_count": 102,
   "id": "artificial-strip",
   "metadata": {},
   "outputs": [
    {
     "name": "stdout",
     "output_type": "stream",
     "text": [
      "8\n"
     ]
    }
   ],
   "source": [
    "result = calc_power(2, 3)\n",
    "print(result)"
   ]
  },
  {
   "cell_type": "markdown",
   "id": "consolidated-championship",
   "metadata": {},
   "source": [
    "When this script executes, the `print` statement will print\n",
    "out \"8\" because the `addtwo` function was called with 3 and 5\n",
    "as arguments. Within the function, the parameters `a` and\n",
    "`b` were 3 and 5 respectively. The function computed the sum\n",
    "of the two numbers and placed it in the local function variable named\n",
    "`added`. Then it used the `return` statement to\n",
    "send the computed value back to the calling code as the function result,\n",
    "which was assigned to the variable `x` and printed out."
   ]
  },
  {
   "cell_type": "markdown",
   "id": "standing-forty",
   "metadata": {},
   "source": [
    "Why functions?\n",
    "--------------\n",
    "\n",
    "\n",
    "It may not be clear why it is worth the trouble to divide a program into\n",
    "functions. There are several reasons:\n",
    "\n",
    "-   Creating a new function gives you an opportunity to name a group of\n",
    "    statements, which makes your program easier to read, understand, and\n",
    "    debug.\n",
    "\n",
    "-   Functions can make a program smaller by eliminating repetitive code.\n",
    "    Later, if you make a change, you only have to make it in one place.\n",
    "\n",
    "-   Dividing a long program into functions allows you to debug the parts\n",
    "    one at a time and then assemble them into a working whole.\n",
    "\n",
    "-   Well-designed functions are often useful for many programs. Once you\n",
    "    write and debug one, you can reuse it.\n",
    "\n",
    "Throughout the rest of the book, often we will use a function definition\n",
    "to explain a concept. Part of the skill of creating and using functions\n",
    "is to have a function properly capture an idea such as \"find the\n",
    "smallest value in a list of values\". Later we will show you code that\n",
    "finds the smallest in a list of values and we will present it to you as\n",
    "a function named `min` which takes a list of values as its\n",
    "argument and returns the smallest value in the list."
   ]
  },
  {
   "cell_type": "code",
   "execution_count": 72,
   "id": "located-danger",
   "metadata": {},
   "outputs": [],
   "source": [
    "import pandas as pd\n",
    "\n",
    "import matplotlib.pyplot as plt\n",
    "import seaborn as sns\n",
    "\n",
    "# do not display the number with scientific notation\n",
    "pd.options.display.float_format = '{:.2f}'.format"
   ]
  },
  {
   "cell_type": "code",
   "execution_count": 73,
   "id": "restricted-lancaster",
   "metadata": {},
   "outputs": [],
   "source": [
    "# import cleaned versions of files\n",
    "\n",
    "# orderlines_cl.csv\n",
    "url = 'https://drive.google.com/file/d/1lrSr_vVbXN7QSVSScf68DpWwvCMclK5m/view?usp=sharing' \n",
    "path = 'https://drive.google.com/uc?export=download&id='+url.split('/')[-2]\n",
    "orderlines = pd.read_csv(path)\n",
    "\n",
    "# orders_cl.csv\n",
    "url = 'https://drive.google.com/file/d/1cGjJ9o3vtwjK0Sohyr3YVTccXfnTPijT/view?usp=sharing' \n",
    "path = 'https://drive.google.com/uc?export=download&id='+url.split('/')[-2]\n",
    "orders = pd.read_csv(path)\n",
    "\n",
    "# brands_cl.csv\n",
    "url = 'https://drive.google.com/file/d/1XGyabaa4mAkjixMk3XPgx_14OoSse3rs/view?usp=sharing' \n",
    "path = 'https://drive.google.com/uc?export=download&id='+url.split('/')[-2]\n",
    "brands = pd.read_csv(path)\n",
    "\n",
    "# products_cl.csv\n",
    "url = 'https://drive.google.com/file/d/1rHC8M-HG13FtVncImXBydgDtIHyCPH0g/view?usp=sharing' \n",
    "path = 'https://drive.google.com/uc?export=download&id='+url.split('/')[-2]\n",
    "products = pd.read_csv(path)"
   ]
  },
  {
   "cell_type": "code",
   "execution_count": 74,
   "id": "norwegian-conservation",
   "metadata": {},
   "outputs": [
    {
     "data": {
      "text/html": [
       "<div>\n",
       "<style scoped>\n",
       "    .dataframe tbody tr th:only-of-type {\n",
       "        vertical-align: middle;\n",
       "    }\n",
       "\n",
       "    .dataframe tbody tr th {\n",
       "        vertical-align: top;\n",
       "    }\n",
       "\n",
       "    .dataframe thead th {\n",
       "        text-align: right;\n",
       "    }\n",
       "</style>\n",
       "<table border=\"1\" class=\"dataframe\">\n",
       "  <thead>\n",
       "    <tr style=\"text-align: right;\">\n",
       "      <th></th>\n",
       "      <th>sku</th>\n",
       "      <th>name</th>\n",
       "      <th>desc</th>\n",
       "      <th>price</th>\n",
       "      <th>type</th>\n",
       "      <th>max_price_orderlines</th>\n",
       "    </tr>\n",
       "  </thead>\n",
       "  <tbody>\n",
       "    <tr>\n",
       "      <th>0</th>\n",
       "      <td>RAI0007</td>\n",
       "      <td>Silver Rain Design mStand Support</td>\n",
       "      <td>Aluminum support compatible with all MacBook</td>\n",
       "      <td>59.99</td>\n",
       "      <td>8696</td>\n",
       "      <td>NaN</td>\n",
       "    </tr>\n",
       "    <tr>\n",
       "      <th>1</th>\n",
       "      <td>APP0023</td>\n",
       "      <td>Apple Mac Keyboard Keypad Spanish</td>\n",
       "      <td>USB ultrathin keyboard Apple Mac Spanish.</td>\n",
       "      <td>59.00</td>\n",
       "      <td>13855401</td>\n",
       "      <td>NaN</td>\n",
       "    </tr>\n",
       "    <tr>\n",
       "      <th>2</th>\n",
       "      <td>APP0025</td>\n",
       "      <td>Mighty Mouse Apple Mouse for Mac</td>\n",
       "      <td>mouse Apple USB cable.</td>\n",
       "      <td>59.00</td>\n",
       "      <td>1387</td>\n",
       "      <td>NaN</td>\n",
       "    </tr>\n",
       "    <tr>\n",
       "      <th>3</th>\n",
       "      <td>APP0072</td>\n",
       "      <td>Apple Dock to USB Cable iPhone and iPod white</td>\n",
       "      <td>IPhone dock and USB Cable Apple iPod.</td>\n",
       "      <td>25.00</td>\n",
       "      <td>1230</td>\n",
       "      <td>NaN</td>\n",
       "    </tr>\n",
       "    <tr>\n",
       "      <th>4</th>\n",
       "      <td>KIN0007</td>\n",
       "      <td>Mac Memory Kingston 2GB 667MHz DDR2 SO-DIMM</td>\n",
       "      <td>2GB RAM Mac mini and iMac (2006/07) MacBook Pr...</td>\n",
       "      <td>34.99</td>\n",
       "      <td>1364</td>\n",
       "      <td>NaN</td>\n",
       "    </tr>\n",
       "    <tr>\n",
       "      <th>...</th>\n",
       "      <td>...</td>\n",
       "      <td>...</td>\n",
       "      <td>...</td>\n",
       "      <td>...</td>\n",
       "      <td>...</td>\n",
       "      <td>...</td>\n",
       "    </tr>\n",
       "    <tr>\n",
       "      <th>10574</th>\n",
       "      <td>BEL0376</td>\n",
       "      <td>Belkin Travel Support Apple Watch Black</td>\n",
       "      <td>compact and portable stand vertically or horiz...</td>\n",
       "      <td>29.99</td>\n",
       "      <td>12282</td>\n",
       "      <td>NaN</td>\n",
       "    </tr>\n",
       "    <tr>\n",
       "      <th>10575</th>\n",
       "      <td>THU0060</td>\n",
       "      <td>Enroute Thule 14L Backpack MacBook 13 \"Black</td>\n",
       "      <td>Backpack with capacity of 14 liter compartment...</td>\n",
       "      <td>69.95</td>\n",
       "      <td>1392</td>\n",
       "      <td>NaN</td>\n",
       "    </tr>\n",
       "    <tr>\n",
       "      <th>10576</th>\n",
       "      <td>THU0061</td>\n",
       "      <td>Enroute Thule 14L Backpack MacBook 13 \"Blue</td>\n",
       "      <td>Backpack with capacity of 14 liter compartment...</td>\n",
       "      <td>69.95</td>\n",
       "      <td>1392</td>\n",
       "      <td>NaN</td>\n",
       "    </tr>\n",
       "    <tr>\n",
       "      <th>10577</th>\n",
       "      <td>THU0062</td>\n",
       "      <td>Enroute Thule 14L Backpack MacBook 13 \"Red</td>\n",
       "      <td>Backpack with capacity of 14 liter compartment...</td>\n",
       "      <td>69.95</td>\n",
       "      <td>1392</td>\n",
       "      <td>NaN</td>\n",
       "    </tr>\n",
       "    <tr>\n",
       "      <th>10578</th>\n",
       "      <td>THU0063</td>\n",
       "      <td>Enroute Thule 14L Backpack MacBook 13 \"Green</td>\n",
       "      <td>Backpack with capacity of 14 liter compartment...</td>\n",
       "      <td>69.95</td>\n",
       "      <td>1392</td>\n",
       "      <td>NaN</td>\n",
       "    </tr>\n",
       "  </tbody>\n",
       "</table>\n",
       "<p>10579 rows × 6 columns</p>\n",
       "</div>"
      ],
      "text/plain": [
       "           sku                                           name  \\\n",
       "0      RAI0007              Silver Rain Design mStand Support   \n",
       "1      APP0023              Apple Mac Keyboard Keypad Spanish   \n",
       "2      APP0025               Mighty Mouse Apple Mouse for Mac   \n",
       "3      APP0072  Apple Dock to USB Cable iPhone and iPod white   \n",
       "4      KIN0007    Mac Memory Kingston 2GB 667MHz DDR2 SO-DIMM   \n",
       "...        ...                                            ...   \n",
       "10574  BEL0376        Belkin Travel Support Apple Watch Black   \n",
       "10575  THU0060   Enroute Thule 14L Backpack MacBook 13 \"Black   \n",
       "10576  THU0061    Enroute Thule 14L Backpack MacBook 13 \"Blue   \n",
       "10577  THU0062     Enroute Thule 14L Backpack MacBook 13 \"Red   \n",
       "10578  THU0063   Enroute Thule 14L Backpack MacBook 13 \"Green   \n",
       "\n",
       "                                                    desc  price      type  \\\n",
       "0           Aluminum support compatible with all MacBook  59.99      8696   \n",
       "1              USB ultrathin keyboard Apple Mac Spanish.  59.00  13855401   \n",
       "2                                 mouse Apple USB cable.  59.00      1387   \n",
       "3                  IPhone dock and USB Cable Apple iPod.  25.00      1230   \n",
       "4      2GB RAM Mac mini and iMac (2006/07) MacBook Pr...  34.99      1364   \n",
       "...                                                  ...    ...       ...   \n",
       "10574  compact and portable stand vertically or horiz...  29.99     12282   \n",
       "10575  Backpack with capacity of 14 liter compartment...  69.95      1392   \n",
       "10576  Backpack with capacity of 14 liter compartment...  69.95      1392   \n",
       "10577  Backpack with capacity of 14 liter compartment...  69.95      1392   \n",
       "10578  Backpack with capacity of 14 liter compartment...  69.95      1392   \n",
       "\n",
       "       max_price_orderlines  \n",
       "0                       NaN  \n",
       "1                       NaN  \n",
       "2                       NaN  \n",
       "3                       NaN  \n",
       "4                       NaN  \n",
       "...                     ...  \n",
       "10574                   NaN  \n",
       "10575                   NaN  \n",
       "10576                   NaN  \n",
       "10577                   NaN  \n",
       "10578                   NaN  \n",
       "\n",
       "[10579 rows x 6 columns]"
      ]
     },
     "execution_count": 74,
     "metadata": {},
     "output_type": "execute_result"
    }
   ],
   "source": [
    "products"
   ]
  },
  {
   "cell_type": "code",
   "execution_count": 77,
   "id": "ef019532-b548-4d1b-9f27-6289f4900ef6",
   "metadata": {},
   "outputs": [
    {
     "data": {
      "text/html": [
       "<div>\n",
       "<style scoped>\n",
       "    .dataframe tbody tr th:only-of-type {\n",
       "        vertical-align: middle;\n",
       "    }\n",
       "\n",
       "    .dataframe tbody tr th {\n",
       "        vertical-align: top;\n",
       "    }\n",
       "\n",
       "    .dataframe thead th {\n",
       "        text-align: right;\n",
       "    }\n",
       "</style>\n",
       "<table border=\"1\" class=\"dataframe\">\n",
       "  <thead>\n",
       "    <tr style=\"text-align: right;\">\n",
       "      <th></th>\n",
       "      <th>sku</th>\n",
       "      <th>name</th>\n",
       "      <th>desc</th>\n",
       "      <th>price</th>\n",
       "      <th>type</th>\n",
       "      <th>max_price_orderlines</th>\n",
       "      <th>short</th>\n",
       "    </tr>\n",
       "  </thead>\n",
       "  <tbody>\n",
       "    <tr>\n",
       "      <th>0</th>\n",
       "      <td>RAI0007</td>\n",
       "      <td>Silver Rain Design mStand Support</td>\n",
       "      <td>Aluminum support compatible with all MacBook</td>\n",
       "      <td>59.99</td>\n",
       "      <td>8696</td>\n",
       "      <td>NaN</td>\n",
       "      <td>RAI</td>\n",
       "    </tr>\n",
       "    <tr>\n",
       "      <th>1</th>\n",
       "      <td>APP0023</td>\n",
       "      <td>Apple Mac Keyboard Keypad Spanish</td>\n",
       "      <td>USB ultrathin keyboard Apple Mac Spanish.</td>\n",
       "      <td>59.00</td>\n",
       "      <td>13855401</td>\n",
       "      <td>NaN</td>\n",
       "      <td>APP</td>\n",
       "    </tr>\n",
       "    <tr>\n",
       "      <th>2</th>\n",
       "      <td>APP0025</td>\n",
       "      <td>Mighty Mouse Apple Mouse for Mac</td>\n",
       "      <td>mouse Apple USB cable.</td>\n",
       "      <td>59.00</td>\n",
       "      <td>1387</td>\n",
       "      <td>NaN</td>\n",
       "      <td>APP</td>\n",
       "    </tr>\n",
       "    <tr>\n",
       "      <th>3</th>\n",
       "      <td>APP0072</td>\n",
       "      <td>Apple Dock to USB Cable iPhone and iPod white</td>\n",
       "      <td>IPhone dock and USB Cable Apple iPod.</td>\n",
       "      <td>25.00</td>\n",
       "      <td>1230</td>\n",
       "      <td>NaN</td>\n",
       "      <td>APP</td>\n",
       "    </tr>\n",
       "    <tr>\n",
       "      <th>4</th>\n",
       "      <td>KIN0007</td>\n",
       "      <td>Mac Memory Kingston 2GB 667MHz DDR2 SO-DIMM</td>\n",
       "      <td>2GB RAM Mac mini and iMac (2006/07) MacBook Pr...</td>\n",
       "      <td>34.99</td>\n",
       "      <td>1364</td>\n",
       "      <td>NaN</td>\n",
       "      <td>KIN</td>\n",
       "    </tr>\n",
       "  </tbody>\n",
       "</table>\n",
       "</div>"
      ],
      "text/plain": [
       "       sku                                           name  \\\n",
       "0  RAI0007              Silver Rain Design mStand Support   \n",
       "1  APP0023              Apple Mac Keyboard Keypad Spanish   \n",
       "2  APP0025               Mighty Mouse Apple Mouse for Mac   \n",
       "3  APP0072  Apple Dock to USB Cable iPhone and iPod white   \n",
       "4  KIN0007    Mac Memory Kingston 2GB 667MHz DDR2 SO-DIMM   \n",
       "\n",
       "                                                desc  price      type  \\\n",
       "0       Aluminum support compatible with all MacBook  59.99      8696   \n",
       "1          USB ultrathin keyboard Apple Mac Spanish.  59.00  13855401   \n",
       "2                             mouse Apple USB cable.  59.00      1387   \n",
       "3              IPhone dock and USB Cable Apple iPod.  25.00      1230   \n",
       "4  2GB RAM Mac mini and iMac (2006/07) MacBook Pr...  34.99      1364   \n",
       "\n",
       "   max_price_orderlines short  \n",
       "0                   NaN   RAI  \n",
       "1                   NaN   APP  \n",
       "2                   NaN   APP  \n",
       "3                   NaN   APP  \n",
       "4                   NaN   KIN  "
      ]
     },
     "execution_count": 77,
     "metadata": {},
     "output_type": "execute_result"
    }
   ],
   "source": [
    "products[\"short\"] = products.sku.str[:3]\n",
    "products.head()"
   ]
  },
  {
   "cell_type": "code",
   "execution_count": 84,
   "id": "f589c784-19ba-4596-a87a-f2f206b0c4b9",
   "metadata": {},
   "outputs": [],
   "source": [
    "df = pd.DataFrame({\"a\":[1, -3, 2.9],\n",
    "                  \"b\": [100, 200, 300]})"
   ]
  },
  {
   "cell_type": "code",
   "execution_count": 85,
   "id": "55f9de8e-60fb-47a5-ad77-bf999a8e321b",
   "metadata": {},
   "outputs": [
    {
     "data": {
      "text/html": [
       "<div>\n",
       "<style scoped>\n",
       "    .dataframe tbody tr th:only-of-type {\n",
       "        vertical-align: middle;\n",
       "    }\n",
       "\n",
       "    .dataframe tbody tr th {\n",
       "        vertical-align: top;\n",
       "    }\n",
       "\n",
       "    .dataframe thead th {\n",
       "        text-align: right;\n",
       "    }\n",
       "</style>\n",
       "<table border=\"1\" class=\"dataframe\">\n",
       "  <thead>\n",
       "    <tr style=\"text-align: right;\">\n",
       "      <th></th>\n",
       "      <th>a</th>\n",
       "      <th>b</th>\n",
       "    </tr>\n",
       "  </thead>\n",
       "  <tbody>\n",
       "    <tr>\n",
       "      <th>0</th>\n",
       "      <td>1.00</td>\n",
       "      <td>100</td>\n",
       "    </tr>\n",
       "    <tr>\n",
       "      <th>1</th>\n",
       "      <td>-3.00</td>\n",
       "      <td>200</td>\n",
       "    </tr>\n",
       "    <tr>\n",
       "      <th>2</th>\n",
       "      <td>2.90</td>\n",
       "      <td>300</td>\n",
       "    </tr>\n",
       "  </tbody>\n",
       "</table>\n",
       "</div>"
      ],
      "text/plain": [
       "      a    b\n",
       "0  1.00  100\n",
       "1 -3.00  200\n",
       "2  2.90  300"
      ]
     },
     "execution_count": 85,
     "metadata": {},
     "output_type": "execute_result"
    }
   ],
   "source": [
    "df"
   ]
  },
  {
   "cell_type": "code",
   "execution_count": 87,
   "id": "a70e7980-6e6b-45fd-b0e2-5f7c55a4fd9a",
   "metadata": {},
   "outputs": [],
   "source": [
    "def calc_bla(x):\n",
    "    res = x * 5 / math.pi\n",
    "    return res"
   ]
  },
  {
   "cell_type": "code",
   "execution_count": 88,
   "id": "0d73bdcf-c925-453c-9c39-cf243d9bd423",
   "metadata": {},
   "outputs": [
    {
     "data": {
      "text/plain": [
       "0    1.59\n",
       "1   -4.77\n",
       "2    4.62\n",
       "Name: a, dtype: float64"
      ]
     },
     "execution_count": 88,
     "metadata": {},
     "output_type": "execute_result"
    }
   ],
   "source": [
    "df['a'].apply(calc_bla)"
   ]
  },
  {
   "cell_type": "code",
   "execution_count": null,
   "id": "6862c084-054a-4446-a546-42d4cdc58648",
   "metadata": {},
   "outputs": [],
   "source": [
    "products['price']"
   ]
  },
  {
   "cell_type": "code",
   "execution_count": 78,
   "id": "f83ecb37-5d36-4b20-b63f-5bb838f9c74e",
   "metadata": {},
   "outputs": [],
   "source": [
    "dic_avg = {'RAI':65, 'APP': 100, 'KIN':9}"
   ]
  },
  {
   "cell_type": "code",
   "execution_count": 79,
   "id": "a7c102dd-c338-4622-8d22-ead0364e95d1",
   "metadata": {},
   "outputs": [
    {
     "data": {
      "text/plain": [
       "0        65.00\n",
       "1       100.00\n",
       "2       100.00\n",
       "3       100.00\n",
       "4         9.00\n",
       "         ...  \n",
       "10574      NaN\n",
       "10575      NaN\n",
       "10576      NaN\n",
       "10577      NaN\n",
       "10578      NaN\n",
       "Name: short, Length: 10579, dtype: float64"
      ]
     },
     "execution_count": 79,
     "metadata": {},
     "output_type": "execute_result"
    }
   ],
   "source": [
    "products.short.map(dic_avg)"
   ]
  },
  {
   "cell_type": "code",
   "execution_count": null,
   "id": "7bac761e-9eae-4894-8c97-61295a894978",
   "metadata": {},
   "outputs": [],
   "source": []
  },
  {
   "cell_type": "code",
   "execution_count": 132,
   "id": "rough-label",
   "metadata": {},
   "outputs": [
    {
     "data": {
      "text/plain": [
       "0        RAI\n",
       "1        APP\n",
       "2        APP\n",
       "3        APP\n",
       "4        KIN\n",
       "        ... \n",
       "10574    BEL\n",
       "10575    THU\n",
       "10576    THU\n",
       "10577    THU\n",
       "10578    THU\n",
       "Name: sku, Length: 10579, dtype: object"
      ]
     },
     "execution_count": 132,
     "metadata": {},
     "output_type": "execute_result"
    }
   ],
   "source": [
    "products.sku.apply(lambda x:x[:3])"
   ]
  },
  {
   "cell_type": "code",
   "execution_count": 133,
   "id": "starting-darkness",
   "metadata": {},
   "outputs": [],
   "source": [
    "def extract_brand_sku(s):\n",
    "    return s[:3]"
   ]
  },
  {
   "cell_type": "code",
   "execution_count": 134,
   "id": "acknowledged-wrong",
   "metadata": {},
   "outputs": [
    {
     "data": {
      "text/plain": [
       "0        RAI\n",
       "1        APP\n",
       "2        APP\n",
       "3        APP\n",
       "4        KIN\n",
       "        ... \n",
       "10574    BEL\n",
       "10575    THU\n",
       "10576    THU\n",
       "10577    THU\n",
       "10578    THU\n",
       "Name: sku, Length: 10579, dtype: object"
      ]
     },
     "execution_count": 134,
     "metadata": {},
     "output_type": "execute_result"
    }
   ],
   "source": [
    "products.sku.apply(extract_brand_sku)"
   ]
  },
  {
   "cell_type": "code",
   "execution_count": 136,
   "id": "dress-straight",
   "metadata": {},
   "outputs": [],
   "source": [
    "orders['created_date'] = pd.to_datetime(orders['created_date'])"
   ]
  },
  {
   "cell_type": "code",
   "execution_count": 143,
   "id": "formed-recognition",
   "metadata": {},
   "outputs": [],
   "source": [
    "def extract_week(ser):\n",
    "    return pd.to_numeric(ser.dt.strftime('%W'))\n",
    "    "
   ]
  },
  {
   "cell_type": "code",
   "execution_count": 144,
   "id": "resident-threat",
   "metadata": {},
   "outputs": [
    {
     "data": {
      "text/plain": [
       "0        2017-01-02 13:35:40\n",
       "1        2017-11-06 13:10:02\n",
       "2        2017-12-31 17:40:03\n",
       "3        2017-02-16 10:59:38\n",
       "4        2017-11-24 13:35:19\n",
       "                 ...        \n",
       "204686   2018-03-14 13:56:38\n",
       "204687   2018-03-14 13:57:25\n",
       "204688   2018-03-14 13:57:34\n",
       "204689   2018-03-14 13:57:41\n",
       "204690   2018-03-14 13:58:36\n",
       "Name: created_date, Length: 204691, dtype: datetime64[ns]"
      ]
     },
     "execution_count": 144,
     "metadata": {},
     "output_type": "execute_result"
    }
   ],
   "source": [
    "orders['created_date']"
   ]
  },
  {
   "cell_type": "code",
   "execution_count": 146,
   "id": "bibliographic-pittsburgh",
   "metadata": {},
   "outputs": [
    {
     "data": {
      "text/html": [
       "<div>\n",
       "<style scoped>\n",
       "    .dataframe tbody tr th:only-of-type {\n",
       "        vertical-align: middle;\n",
       "    }\n",
       "\n",
       "    .dataframe tbody tr th {\n",
       "        vertical-align: top;\n",
       "    }\n",
       "\n",
       "    .dataframe thead th {\n",
       "        text-align: right;\n",
       "    }\n",
       "</style>\n",
       "<table border=\"1\" class=\"dataframe\">\n",
       "  <thead>\n",
       "    <tr style=\"text-align: right;\">\n",
       "      <th></th>\n",
       "      <th>order_id</th>\n",
       "      <th>created_date</th>\n",
       "      <th>total_paid</th>\n",
       "      <th>state</th>\n",
       "      <th>check_orders</th>\n",
       "      <th>week</th>\n",
       "    </tr>\n",
       "  </thead>\n",
       "  <tbody>\n",
       "    <tr>\n",
       "      <th>0</th>\n",
       "      <td>241319</td>\n",
       "      <td>2017-01-02 13:35:40</td>\n",
       "      <td>44.99</td>\n",
       "      <td>Cancelled</td>\n",
       "      <td>True</td>\n",
       "      <td>1</td>\n",
       "    </tr>\n",
       "    <tr>\n",
       "      <th>1</th>\n",
       "      <td>241423</td>\n",
       "      <td>2017-11-06 13:10:02</td>\n",
       "      <td>136.15</td>\n",
       "      <td>Completed</td>\n",
       "      <td>True</td>\n",
       "      <td>45</td>\n",
       "    </tr>\n",
       "    <tr>\n",
       "      <th>2</th>\n",
       "      <td>242832</td>\n",
       "      <td>2017-12-31 17:40:03</td>\n",
       "      <td>15.76</td>\n",
       "      <td>Completed</td>\n",
       "      <td>True</td>\n",
       "      <td>52</td>\n",
       "    </tr>\n",
       "    <tr>\n",
       "      <th>3</th>\n",
       "      <td>243330</td>\n",
       "      <td>2017-02-16 10:59:38</td>\n",
       "      <td>84.98</td>\n",
       "      <td>Completed</td>\n",
       "      <td>True</td>\n",
       "      <td>7</td>\n",
       "    </tr>\n",
       "    <tr>\n",
       "      <th>4</th>\n",
       "      <td>243784</td>\n",
       "      <td>2017-11-24 13:35:19</td>\n",
       "      <td>157.86</td>\n",
       "      <td>Cancelled</td>\n",
       "      <td>True</td>\n",
       "      <td>47</td>\n",
       "    </tr>\n",
       "    <tr>\n",
       "      <th>...</th>\n",
       "      <td>...</td>\n",
       "      <td>...</td>\n",
       "      <td>...</td>\n",
       "      <td>...</td>\n",
       "      <td>...</td>\n",
       "      <td>...</td>\n",
       "    </tr>\n",
       "    <tr>\n",
       "      <th>204686</th>\n",
       "      <td>527397</td>\n",
       "      <td>2018-03-14 13:56:38</td>\n",
       "      <td>42.99</td>\n",
       "      <td>Place Order</td>\n",
       "      <td>True</td>\n",
       "      <td>11</td>\n",
       "    </tr>\n",
       "    <tr>\n",
       "      <th>204687</th>\n",
       "      <td>527398</td>\n",
       "      <td>2018-03-14 13:57:25</td>\n",
       "      <td>42.99</td>\n",
       "      <td>Shopping Basket</td>\n",
       "      <td>True</td>\n",
       "      <td>11</td>\n",
       "    </tr>\n",
       "    <tr>\n",
       "      <th>204688</th>\n",
       "      <td>527399</td>\n",
       "      <td>2018-03-14 13:57:34</td>\n",
       "      <td>141.58</td>\n",
       "      <td>Shopping Basket</td>\n",
       "      <td>True</td>\n",
       "      <td>11</td>\n",
       "    </tr>\n",
       "    <tr>\n",
       "      <th>204689</th>\n",
       "      <td>527400</td>\n",
       "      <td>2018-03-14 13:57:41</td>\n",
       "      <td>19.98</td>\n",
       "      <td>Shopping Basket</td>\n",
       "      <td>True</td>\n",
       "      <td>11</td>\n",
       "    </tr>\n",
       "    <tr>\n",
       "      <th>204690</th>\n",
       "      <td>527401</td>\n",
       "      <td>2018-03-14 13:58:36</td>\n",
       "      <td>18.98</td>\n",
       "      <td>Place Order</td>\n",
       "      <td>True</td>\n",
       "      <td>11</td>\n",
       "    </tr>\n",
       "  </tbody>\n",
       "</table>\n",
       "<p>204691 rows × 6 columns</p>\n",
       "</div>"
      ],
      "text/plain": [
       "        order_id        created_date  total_paid            state  \\\n",
       "0         241319 2017-01-02 13:35:40       44.99        Cancelled   \n",
       "1         241423 2017-11-06 13:10:02      136.15        Completed   \n",
       "2         242832 2017-12-31 17:40:03       15.76        Completed   \n",
       "3         243330 2017-02-16 10:59:38       84.98        Completed   \n",
       "4         243784 2017-11-24 13:35:19      157.86        Cancelled   \n",
       "...          ...                 ...         ...              ...   \n",
       "204686    527397 2018-03-14 13:56:38       42.99      Place Order   \n",
       "204687    527398 2018-03-14 13:57:25       42.99  Shopping Basket   \n",
       "204688    527399 2018-03-14 13:57:34      141.58  Shopping Basket   \n",
       "204689    527400 2018-03-14 13:57:41       19.98  Shopping Basket   \n",
       "204690    527401 2018-03-14 13:58:36       18.98      Place Order   \n",
       "\n",
       "        check_orders  week  \n",
       "0               True     1  \n",
       "1               True    45  \n",
       "2               True    52  \n",
       "3               True     7  \n",
       "4               True    47  \n",
       "...              ...   ...  \n",
       "204686          True    11  \n",
       "204687          True    11  \n",
       "204688          True    11  \n",
       "204689          True    11  \n",
       "204690          True    11  \n",
       "\n",
       "[204691 rows x 6 columns]"
      ]
     },
     "execution_count": 146,
     "metadata": {},
     "output_type": "execute_result"
    }
   ],
   "source": [
    "orders.assign(week=extract_week(orders['created_date']))"
   ]
  },
  {
   "cell_type": "code",
   "execution_count": 147,
   "id": "excited-investing",
   "metadata": {},
   "outputs": [
    {
     "data": {
      "text/html": [
       "<div>\n",
       "<style scoped>\n",
       "    .dataframe tbody tr th:only-of-type {\n",
       "        vertical-align: middle;\n",
       "    }\n",
       "\n",
       "    .dataframe tbody tr th {\n",
       "        vertical-align: top;\n",
       "    }\n",
       "\n",
       "    .dataframe thead th {\n",
       "        text-align: right;\n",
       "    }\n",
       "</style>\n",
       "<table border=\"1\" class=\"dataframe\">\n",
       "  <thead>\n",
       "    <tr style=\"text-align: right;\">\n",
       "      <th></th>\n",
       "      <th>order_id</th>\n",
       "      <th>created_date</th>\n",
       "      <th>total_paid</th>\n",
       "      <th>state</th>\n",
       "      <th>check_orders</th>\n",
       "      <th>week</th>\n",
       "    </tr>\n",
       "  </thead>\n",
       "  <tbody>\n",
       "    <tr>\n",
       "      <th>0</th>\n",
       "      <td>241319</td>\n",
       "      <td>2017-01-02 13:35:40</td>\n",
       "      <td>44.99</td>\n",
       "      <td>Cancelled</td>\n",
       "      <td>True</td>\n",
       "      <td>1</td>\n",
       "    </tr>\n",
       "    <tr>\n",
       "      <th>1</th>\n",
       "      <td>241423</td>\n",
       "      <td>2017-11-06 13:10:02</td>\n",
       "      <td>136.15</td>\n",
       "      <td>Completed</td>\n",
       "      <td>True</td>\n",
       "      <td>45</td>\n",
       "    </tr>\n",
       "    <tr>\n",
       "      <th>2</th>\n",
       "      <td>242832</td>\n",
       "      <td>2017-12-31 17:40:03</td>\n",
       "      <td>15.76</td>\n",
       "      <td>Completed</td>\n",
       "      <td>True</td>\n",
       "      <td>52</td>\n",
       "    </tr>\n",
       "    <tr>\n",
       "      <th>3</th>\n",
       "      <td>243330</td>\n",
       "      <td>2017-02-16 10:59:38</td>\n",
       "      <td>84.98</td>\n",
       "      <td>Completed</td>\n",
       "      <td>True</td>\n",
       "      <td>7</td>\n",
       "    </tr>\n",
       "    <tr>\n",
       "      <th>4</th>\n",
       "      <td>243784</td>\n",
       "      <td>2017-11-24 13:35:19</td>\n",
       "      <td>157.86</td>\n",
       "      <td>Cancelled</td>\n",
       "      <td>True</td>\n",
       "      <td>47</td>\n",
       "    </tr>\n",
       "    <tr>\n",
       "      <th>...</th>\n",
       "      <td>...</td>\n",
       "      <td>...</td>\n",
       "      <td>...</td>\n",
       "      <td>...</td>\n",
       "      <td>...</td>\n",
       "      <td>...</td>\n",
       "    </tr>\n",
       "    <tr>\n",
       "      <th>204686</th>\n",
       "      <td>527397</td>\n",
       "      <td>2018-03-14 13:56:38</td>\n",
       "      <td>42.99</td>\n",
       "      <td>Place Order</td>\n",
       "      <td>True</td>\n",
       "      <td>11</td>\n",
       "    </tr>\n",
       "    <tr>\n",
       "      <th>204687</th>\n",
       "      <td>527398</td>\n",
       "      <td>2018-03-14 13:57:25</td>\n",
       "      <td>42.99</td>\n",
       "      <td>Shopping Basket</td>\n",
       "      <td>True</td>\n",
       "      <td>11</td>\n",
       "    </tr>\n",
       "    <tr>\n",
       "      <th>204688</th>\n",
       "      <td>527399</td>\n",
       "      <td>2018-03-14 13:57:34</td>\n",
       "      <td>141.58</td>\n",
       "      <td>Shopping Basket</td>\n",
       "      <td>True</td>\n",
       "      <td>11</td>\n",
       "    </tr>\n",
       "    <tr>\n",
       "      <th>204689</th>\n",
       "      <td>527400</td>\n",
       "      <td>2018-03-14 13:57:41</td>\n",
       "      <td>19.98</td>\n",
       "      <td>Shopping Basket</td>\n",
       "      <td>True</td>\n",
       "      <td>11</td>\n",
       "    </tr>\n",
       "    <tr>\n",
       "      <th>204690</th>\n",
       "      <td>527401</td>\n",
       "      <td>2018-03-14 13:58:36</td>\n",
       "      <td>18.98</td>\n",
       "      <td>Place Order</td>\n",
       "      <td>True</td>\n",
       "      <td>11</td>\n",
       "    </tr>\n",
       "  </tbody>\n",
       "</table>\n",
       "<p>204691 rows × 6 columns</p>\n",
       "</div>"
      ],
      "text/plain": [
       "        order_id        created_date  total_paid            state  \\\n",
       "0         241319 2017-01-02 13:35:40       44.99        Cancelled   \n",
       "1         241423 2017-11-06 13:10:02      136.15        Completed   \n",
       "2         242832 2017-12-31 17:40:03       15.76        Completed   \n",
       "3         243330 2017-02-16 10:59:38       84.98        Completed   \n",
       "4         243784 2017-11-24 13:35:19      157.86        Cancelled   \n",
       "...          ...                 ...         ...              ...   \n",
       "204686    527397 2018-03-14 13:56:38       42.99      Place Order   \n",
       "204687    527398 2018-03-14 13:57:25       42.99  Shopping Basket   \n",
       "204688    527399 2018-03-14 13:57:34      141.58  Shopping Basket   \n",
       "204689    527400 2018-03-14 13:57:41       19.98  Shopping Basket   \n",
       "204690    527401 2018-03-14 13:58:36       18.98      Place Order   \n",
       "\n",
       "        check_orders  week  \n",
       "0               True     1  \n",
       "1               True    45  \n",
       "2               True    52  \n",
       "3               True     7  \n",
       "4               True    47  \n",
       "...              ...   ...  \n",
       "204686          True    11  \n",
       "204687          True    11  \n",
       "204688          True    11  \n",
       "204689          True    11  \n",
       "204690          True    11  \n",
       "\n",
       "[204691 rows x 6 columns]"
      ]
     },
     "execution_count": 147,
     "metadata": {},
     "output_type": "execute_result"
    }
   ],
   "source": [
    "orders.assign(week=extract_week(orders['created_date']))"
   ]
  },
  {
   "cell_type": "code",
   "execution_count": null,
   "id": "instrumental-technology",
   "metadata": {},
   "outputs": [],
   "source": []
  },
  {
   "cell_type": "code",
   "execution_count": null,
   "id": "acknowledged-pakistan",
   "metadata": {},
   "outputs": [],
   "source": []
  },
  {
   "cell_type": "code",
   "execution_count": 37,
   "id": "billion-utilization",
   "metadata": {},
   "outputs": [],
   "source": [
    "import numpy as np"
   ]
  },
  {
   "cell_type": "code",
   "execution_count": 38,
   "id": "macro-banking",
   "metadata": {},
   "outputs": [
    {
     "data": {
      "text/plain": [
       "array([0, 1, 2, 3, 4, 5, 6, 7, 8, 9])"
      ]
     },
     "execution_count": 38,
     "metadata": {},
     "output_type": "execute_result"
    }
   ],
   "source": [
    "a = ['cat', 'dog']#np.arange(10)\n",
    "a"
   ]
  },
  {
   "cell_type": "code",
   "execution_count": null,
   "id": "illegal-spring",
   "metadata": {},
   "outputs": [],
   "source": [
    "def fun_name(a):\n",
    "    if cond:\n",
    "        do pla\n",
    "    elif cond:\n",
    "        \n",
    "    else:\n",
    "        "
   ]
  },
  {
   "cell_type": "code",
   "execution_count": 49,
   "id": "designing-interest",
   "metadata": {},
   "outputs": [
    {
     "data": {
      "text/plain": [
       "array(['ccccc', 'dog', 'ccccc', 'ccccc', 'ccccc', 'ccccc', 'cat', 'cat',\n",
       "       'ccccc', 'ccccc'], dtype='<U5')"
      ]
     },
     "execution_count": 49,
     "metadata": {},
     "output_type": "execute_result"
    }
   ],
   "source": [
    "df.assign(column_name= lambda a:\n",
    "    np.where(((a > 5) & (a < 8)), \"cat\", \n",
    "    np.where((a == 1), \"dog\", \"ccccc\"))\n",
    "    \n",
    ")"
   ]
  },
  {
   "cell_type": "code",
   "execution_count": null,
   "id": "becoming-buddy",
   "metadata": {},
   "outputs": [],
   "source": [
    "for ele in a:\n",
    "    if a > 5:\n",
    "        \n",
    "    else:"
   ]
  }
 ],
 "metadata": {
  "kernelspec": {
   "display_name": "Python 3 (ipykernel)",
   "language": "python",
   "name": "python3"
  },
  "language_info": {
   "codemirror_mode": {
    "name": "ipython",
    "version": 3
   },
   "file_extension": ".py",
   "mimetype": "text/x-python",
   "name": "python",
   "nbconvert_exporter": "python",
   "pygments_lexer": "ipython3",
   "version": "3.8.13"
  }
 },
 "nbformat": 4,
 "nbformat_minor": 5
}
